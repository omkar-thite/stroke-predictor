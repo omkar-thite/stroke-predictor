{
 "cells": [
  {
   "cell_type": "code",
   "execution_count": null,
   "id": "2d8733d7",
   "metadata": {},
   "outputs": [],
   "source": [
    "import os\n",
    "import mlflow\n",
    "from mlflow.tracking import MlflowClient\n",
    "from dotenv import load_dotenv\n",
    "\n",
    "# Load environment variables from .env file\n",
    "load_dotenv()"
   ]
  },
  {
   "cell_type": "code",
   "execution_count": null,
   "id": "606ae3ba",
   "metadata": {},
   "outputs": [],
   "source": [
    "MLFLOW_TRACKING_URI = os.getenv('MLFLOW_TRACKING_URI')\n",
    "mlflow.set_tracking_uri(MLFLOW_TRACKING_URI)"
   ]
  },
  {
   "cell_type": "code",
   "execution_count": null,
   "id": "b58ea6d0",
   "metadata": {},
   "outputs": [],
   "source": [
    "MLFLOW_TRACKING_URI"
   ]
  },
  {
   "cell_type": "code",
   "execution_count": null,
   "id": "c105f57b",
   "metadata": {},
   "outputs": [],
   "source": [
    "# Initialize MLflow client\n",
    "client = MlflowClient()"
   ]
  },
  {
   "cell_type": "code",
   "execution_count": null,
   "id": "ba90ee97",
   "metadata": {},
   "outputs": [],
   "source": [
    "model_name = \"xgb_model\"  # The model name used in register_model()\n",
    "model_versions = client.search_model_versions(f\"name='{model_name}'\")\n",
    "latest_version = max([model_version.version for model_version in model_versions])\n",
    "\n",
    "print(f\"Loading {model_name} version {latest_version}\")"
   ]
  },
  {
   "cell_type": "code",
   "execution_count": null,
   "id": "41888b69",
   "metadata": {},
   "outputs": [],
   "source": [
    "model_uri = f\"models:/{model_name}/{latest_version}\"\n",
    "model = mlflow.pyfunc.load_model(model_uri)"
   ]
  },
  {
   "cell_type": "code",
   "execution_count": null,
   "id": "e320f8bc",
   "metadata": {},
   "outputs": [],
   "source": []
  },
  {
   "cell_type": "code",
   "execution_count": null,
   "id": "bae7de03",
   "metadata": {},
   "outputs": [],
   "source": []
  }
 ],
 "metadata": {
  "kernelspec": {
   "display_name": "venv",
   "language": "python",
   "name": "python3"
  },
  "language_info": {
   "codemirror_mode": {
    "name": "ipython",
    "version": 3
   },
   "file_extension": ".py",
   "mimetype": "text/x-python",
   "name": "python",
   "nbconvert_exporter": "python",
   "pygments_lexer": "ipython3",
   "version": "3.12.3"
  }
 },
 "nbformat": 4,
 "nbformat_minor": 5
}
